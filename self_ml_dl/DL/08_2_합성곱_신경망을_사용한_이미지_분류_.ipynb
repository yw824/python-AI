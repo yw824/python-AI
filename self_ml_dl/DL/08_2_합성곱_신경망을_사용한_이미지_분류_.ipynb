{
  "nbformat": 4,
  "nbformat_minor": 0,
  "metadata": {
    "colab": {
      "provenance": []
    },
    "kernelspec": {
      "name": "python3",
      "display_name": "Python 3"
    },
    "language_info": {
      "name": "python"
    }
  },
  "cells": [
    {
      "cell_type": "markdown",
      "source": [
        "이번 절에서는 텐서플로, 케라스 API를 사용해 7장에서 만들었던 패션 MNIST 데이터를  \n",
        "합성곱 신경망으로 분류할 것이다. "
      ],
      "metadata": {
        "id": "k-YqyMLsYbEJ"
      }
    },
    {
      "cell_type": "markdown",
      "source": [
        "## 패션 MNIST 데이터 불러오기"
      ],
      "metadata": {
        "id": "OZA4dssPZDno"
      }
    },
    {
      "cell_type": "markdown",
      "source": [
        "``` keras.datasets.fashion_mnist.load_data()```"
      ],
      "metadata": {
        "id": "ROHzs-zUag7F"
      }
    },
    {
      "cell_type": "markdown",
      "source": [
        "패션 MNIST 데이터를 불러오고 적절히 전처리하기\n",
        "- 데이터 스케일을 0-255 -> 0-1 로 바꾸고\n",
        "- 훈련 세트와 검증 세트로 나누기 "
      ],
      "metadata": {
        "id": "vA2Vs_zOZKUh"
      }
    },
    {
      "cell_type": "markdown",
      "source": [
        "한 가지 작업이 다르다.  \n",
        "완전 연결 신경망에서는 입력 이미지를 밀집층에 연결하기 위해 일렬로 펼쳐야 한다.  \n",
        "이 작업을 위해 넘파이의 reshape 함수나 Flatten 클래스를 사용했었다.  \n",
        "합성곱 신경망은 2차원 이미지를 그대로 사용하기 때문에 1차원으로 변환할 필요가 없다. "
      ],
      "metadata": {
        "id": "Ku7yfoQlZUP3"
      }
    },
    {
      "cell_type": "markdown",
      "source": [
        "다만 8장 1절에서 이야기했듯이 입력 이미지는 항상 깊이( 채널 ) 차원이 있어야 한다.  \n",
        "흑백 이미지의 경우 채널 차원이 없는 2차원 배열이지만 Conv2D 층을 사용하기 때문에  \n",
        "마지막에 이 채널 차원을 추가해야 한다.  \n",
        "넘파이 reshape() 메서드를 사용해 전체 배열 차원을 그대로 유지하면서 마지막에 차원을 간단히 추가할 수 있다. "
      ],
      "metadata": {
        "id": "4bAQ8HjwZ6fu"
      }
    },
    {
      "cell_type": "code",
      "source": [
        "from tensorflow import keras\n",
        "from sklearn.model_selection import train_test_split\n",
        "\n",
        "(train_input, train_target), (test_input, test_target) = keras.datasets.fashion_mnist.load_data()\n",
        " \n",
        "train_scaled = train_input.reshape(-1, 28, 28, 1) / 255.0\n",
        "\n",
        "train_scaled, val_scaled, train_target, val_target = train_test_split(\n",
        "    train_scaled, train_target, random_state = 42, test_size = 0.2\n",
        ")"
      ],
      "metadata": {
        "colab": {
          "base_uri": "https://localhost:8080/"
        },
        "id": "Nh9pH9MUaL_E",
        "outputId": "75e0fc51-25d4-409f-84d2-3e74a277eb29"
      },
      "execution_count": 1,
      "outputs": [
        {
          "output_type": "stream",
          "name": "stdout",
          "text": [
            "Downloading data from https://storage.googleapis.com/tensorflow/tf-keras-datasets/train-labels-idx1-ubyte.gz\n",
            "29515/29515 [==============================] - 0s 0us/step\n",
            "Downloading data from https://storage.googleapis.com/tensorflow/tf-keras-datasets/train-images-idx3-ubyte.gz\n",
            "26421880/26421880 [==============================] - 2s 0us/step\n",
            "Downloading data from https://storage.googleapis.com/tensorflow/tf-keras-datasets/t10k-labels-idx1-ubyte.gz\n",
            "5148/5148 [==============================] - 0s 0us/step\n",
            "Downloading data from https://storage.googleapis.com/tensorflow/tf-keras-datasets/t10k-images-idx3-ubyte.gz\n",
            "4422102/4422102 [==============================] - 0s 0us/step\n"
          ]
        }
      ]
    },
    {
      "cell_type": "markdown",
      "source": [
        "이제 (48000, 28, 28) 크기의 train_input이 (48000, 28, 28, 1) 크기의 4차원 배열이 되었다.  \n",
        "- 48000 : 입력 데이터 개수\n",
        "- 28 * 28 * 1 : 입력 피처의 형식 ( 그런데 왜 28 * 28로 안하고,, ?? )"
      ],
      "metadata": {
        "id": "UVpD_IXscLzg"
      }
    },
    {
      "cell_type": "markdown",
      "source": [
        "그 외 다른 작업은 7장에서 했던 것과 같다.  \n",
        "데이터를 준비했으니, 합성곱 신경망을 만들어 보자. "
      ],
      "metadata": {
        "id": "PqDy0yAycUIr"
      }
    },
    {
      "cell_type": "markdown",
      "source": [
        "## 합성곱 신경망 만들기"
      ],
      "metadata": {
        "id": "HoDlIEJFcc-G"
      }
    },
    {
      "cell_type": "markdown",
      "source": [
        "전형적인 합성곱 신경망의 구조는 합성곱 츠응로 이미지에서 특징을 감지한 후  \n",
        "밀집층으로 클래스에 따른 분류 확률을 계산한다.  \n",
        "케라스의 Sequential 클래스를 사용해 순서대로 이 구조를 정의해 보겠다.  "
      ],
      "metadata": {
        "id": "HitxanQ6cehh"
      }
    },
    {
      "cell_type": "markdown",
      "source": [
        "먼저 Sequential 클래스의 객체를 만들고 첫 번째 합성곱 층인 Conv2D를 추가한다.  \n",
        "이 클래스는 다른 층 클래스와 마찬가지로 keras.layers 패키지 아래에 있다.  \n",
        "여기에서는 이전 장에서 보았던 모델의 add() 메서드를 사용해 층을 하나씩 차례대로 추가하겠다.  "
      ],
      "metadata": {
        "id": "wpE8W9Socoh8"
      }
    },
    {
      "cell_type": "code",
      "source": [
        "model = keras.Sequential()\n",
        "model.add(keras.layers.Conv2D(32, kernel_size = 3, activation = 'relu', padding = 'same', input_shape = (28, 28, 1)))"
      ],
      "metadata": {
        "id": "O92r3o_pc1Z9"
      },
      "execution_count": 2,
      "outputs": []
    },
    {
      "cell_type": "markdown",
      "source": [
        "이 코드의 매개변수를 자세히 살펴보겠다.  \n",
        "이 합성곱 층은 32개의 필터를 사용한다.  \n",
        "커널의 크기는 (3, 3)이고, ReLU 활성화 함수의 same padding을 사용한다. "
      ],
      "metadata": {
        "id": "p_bNaG6SdAYg"
      }
    },
    {
      "cell_type": "markdown",
      "source": [
        "완전 연결 신경망에서처럼 케라스 신경망 모델의 첫 번째 층에서 입력의 차원을 지정해 주어야 한다.  \n",
        "앞서 패션 MNIST 이미지를 (28, 28)에서 (28, 28, 1)로 변경했었다.  \n",
        "input_shape 매개변수를 이 값으로 지정한다. "
      ],
      "metadata": {
        "id": "OhSBMrTIdI2s"
      }
    },
    {
      "cell_type": "markdown",
      "source": [
        "그 다음 풀링 층을 추가한다. 케라스는 최대 풀링과 평균 풀링을 keras.layers 패키지 아래에  \n",
        "MaxPooling2D, AveragePooling2D 클래스로 제공한다.  \n",
        "전형적인 풀링 크기인 (2, 2) 풀링을 사용해 보자.  \n",
        "Conv2D 클래스의 kernel_size처럼 가로세로 크기가 같으면 정수 하나로 지정할 수 있다. "
      ],
      "metadata": {
        "id": "z_Be9qf0gF0u"
      }
    },
    {
      "cell_type": "code",
      "source": [
        "model.add(keras.layers.MaxPooling2D(2, 2))"
      ],
      "metadata": {
        "id": "raea5KPngYNd"
      },
      "execution_count": 3,
      "outputs": []
    },
    {
      "cell_type": "markdown",
      "source": [
        "패션 MNIST 이미지가 (28, 28) 크기에 세임 패딩을 적용했기 때문에  \n",
        "합성곱 층에서 출력된 특성 맵의 가로세로 크기는 입력과 동일하다. "
      ],
      "metadata": {
        "id": "NnjRxgwigcms"
      }
    },
    {
      "cell_type": "markdown",
      "source": [
        "그 다음 (2, 2) 풀링을 사용했기 때문에 특성 맵의 크기는 절반으로 줄어든다.  \n",
        "합성곱 층에서 32개의 필터를 사용했기 때문에 이 특성 맵의 크기는 32가 된다.  \n",
        "따라서 최대 풀링을 통화한 특성 맵의 크기는 (14, 14, 32)가 될 것이다.  "
      ],
      "metadata": {
        "id": "Kl-vQ_INgpih"
      }
    },
    {
      "cell_type": "markdown",
      "source": [
        "나중에 각 층의 출력 크기를 summary() 메서드로 확인해 보겠다. "
      ],
      "metadata": {
        "id": "ry5Ekc1dg2v1"
      }
    },
    {
      "cell_type": "markdown",
      "source": [
        "첫번째 합성곱-풀링 층 다음에 두 번째 합성곱 풀링 층을 추가해 보겠다.  \n",
        "두 번째 합성곱-풀링 층은 첫 번째와 거의 동일하다. 필터의 개수를 64개로 늘린 점만 다르다. "
      ],
      "metadata": {
        "id": "is2xfkrNg9wG"
      }
    },
    {
      "cell_type": "code",
      "source": [
        "model.add(keras.layers.Conv2D(64, kernel_size = 3, activation = 'relu', padding = 'same'))\n",
        "model.add(keras.layers.MaxPooling2D(2))"
      ],
      "metadata": {
        "id": "o2g6pwVbhMpW"
      },
      "execution_count": 5,
      "outputs": []
    },
    {
      "cell_type": "markdown",
      "source": [
        "첫 번째 합성곱-풀링 층과 마찬가지로 이 합성곱 층은 세임 패딩을 사용한다.  \n",
        "따라서 입력의 가로-세로 크기를 줄이지 않는다.  \n",
        "이어지는 풀링 층에서 이 크기를 절반으로 줄인다.  \n",
        "64개의 필터를 사용했으므로 최종적으로 만들어지는 특성 맵의 크기는 (7, 7, 64)가 될 것이다. "
      ],
      "metadata": {
        "id": "jdNCnC97hg5P"
      }
    },
    {
      "cell_type": "markdown",
      "source": [
        "이제 이 3차원 특성 맵을 일렬로 펼칠 차례이다.  \n",
        "이렇게 하는 이유는 마지막에 10개의 뉴런을 가진 (밀집)출력응에서 확률을 계산하기 때문"
      ],
      "metadata": {
        "id": "LnA53RB3huHS"
      }
    },
    {
      "cell_type": "markdown",
      "source": [
        "여기에서는 특성 맵을 일렬로 펼쳐서 바로 출력층에 전달하지 않고  \n",
        "중간에 하나의 밀집 은닉층을 하나 더 두도록 하겠다.  \n",
        "즉 Flatten 클래스 다음에 Dense 은닉층, 마지막 Dense 출력층의 순서대로 구성한다. "
      ],
      "metadata": {
        "id": "aRJahhGKh1p6"
      }
    },
    {
      "cell_type": "code",
      "source": [
        "model.add(keras.layers.Flatten())\n",
        "model.add(keras.layers.Dense(100, activation = 'relu'))\n",
        "model.add(keras.layers.Dropout(0.4))\n",
        "model.add(keras.layers.Dense(10, activation = 'softmax'))"
      ],
      "metadata": {
        "id": "j1hEduA6iARe"
      },
      "execution_count": 7,
      "outputs": []
    },
    {
      "cell_type": "markdown",
      "source": [
        "은닉 층과 출력 층 사이에 Dropout을 넣었다. 드롭아웃 층이 은닉층의 과대적합을 막아  \n",
        "성능을 더 개선해 줄 것이다.  \n",
        "은닉층은 100개의 뉴런을 사용하고, 확성화 함수는 합성곱 층과 마찬가지로 relu 함수를 사용  "
      ],
      "metadata": {
        "id": "NbFDwWwxiOBu"
      }
    },
    {
      "cell_type": "markdown",
      "source": [
        "패션 MNIST 데이터셋은 클래스 10개를 분류하는 다중 분류 문제이므로  \n",
        "마지막 층의 활성화 함수는 소프트맥스를 활용한다. "
      ],
      "metadata": {
        "id": "gDyOvIzdiZ9S"
      }
    },
    {
      "cell_type": "markdown",
      "source": [
        "이렇게 합성곱 신경망의 구성을 마쳤다.  \n",
        "앞 절에서 커널, 패딩, 풀링 등을 잘 이해했다면, 케라스 API를 사용해  \n",
        "손쉽게 다양한 구성을 실험해 볼 수 있다. "
      ],
      "metadata": {
        "id": "LYGH8F7olUSv"
      }
    },
    {
      "cell_type": "markdown",
      "source": [
        "케라스 모델의 구성을 마쳤으니 summary() 메서드로 모델 구조를 출력해 보겠다. "
      ],
      "metadata": {
        "id": "moqnghEpleK2"
      }
    },
    {
      "cell_type": "code",
      "source": [
        "model.summary()"
      ],
      "metadata": {
        "colab": {
          "base_uri": "https://localhost:8080/"
        },
        "id": "1zXQ6RAYliX-",
        "outputId": "b1cf33f3-be36-4253-81bf-46b31900214f"
      },
      "execution_count": 8,
      "outputs": [
        {
          "output_type": "stream",
          "name": "stdout",
          "text": [
            "Model: \"sequential\"\n",
            "_________________________________________________________________\n",
            " Layer (type)                Output Shape              Param #   \n",
            "=================================================================\n",
            " conv2d (Conv2D)             (None, 28, 28, 32)        320       \n",
            "                                                                 \n",
            " max_pooling2d (MaxPooling2D  (None, 14, 14, 32)       0         \n",
            " )                                                               \n",
            "                                                                 \n",
            " conv2d_1 (Conv2D)           (None, 14, 14, 64)        18496     \n",
            "                                                                 \n",
            " max_pooling2d_1 (MaxPooling  (None, 7, 7, 64)         0         \n",
            " 2D)                                                             \n",
            "                                                                 \n",
            " flatten (Flatten)           (None, 3136)              0         \n",
            "                                                                 \n",
            " dense (Dense)               (None, 100)               313700    \n",
            "                                                                 \n",
            " flatten_1 (Flatten)         (None, 100)               0         \n",
            "                                                                 \n",
            " dense_1 (Dense)             (None, 100)               10100     \n",
            "                                                                 \n",
            " dropout (Dropout)           (None, 100)               0         \n",
            "                                                                 \n",
            " dense_2 (Dense)             (None, 10)                1010      \n",
            "                                                                 \n",
            "=================================================================\n",
            "Total params: 343,626\n",
            "Trainable params: 343,626\n",
            "Non-trainable params: 0\n",
            "_________________________________________________________________\n"
          ]
        }
      ]
    },
    {
      "cell_type": "markdown",
      "source": [
        "summary() 메서드의 출력 결과를 보면 합성곱 층과 풀링 효과가 잘 나타나 있다.  \n",
        "첫 번째 합성곱 층을 통과하면서 특성 맵의 깊이는 32가 되고, 두 번째 합성곱에서 특성 맵의 크기가 64로 늘어난다. "
      ],
      "metadata": {
        "id": "B5lHRK-pl7Zv"
      }
    },
    {
      "cell_type": "markdown",
      "source": [
        "반면 특성 맵의 가로세로 크기는 첫 번째 풀링 층에서 절반으로 줄어들고, 두 번째 풀링 층에서 다시 절반으로 줄어든다. "
      ],
      "metadata": {
        "id": "n4pAeylCmNRe"
      }
    },
    {
      "cell_type": "markdown",
      "source": [
        "따라서 최종 맵의 크기는 (7, 7, 64)이다. "
      ],
      "metadata": {
        "id": "iHFbKSdpmUC-"
      }
    },
    {
      "cell_type": "markdown",
      "source": [
        "완전 연결 신경망에서 했던 것처럼 모델 파라미터의 개수를 계산해 보자.  \n",
        "첫 번째 합성곱 층은 32개의 필터를 가지고 있고 크기가 (3, 3), 깊이가 1이다.  \n",
        "또 필터마다 하나의 절편이 있다. "
      ],
      "metadata": {
        "id": "lp80C93ymWS9"
      }
    },
    {
      "cell_type": "markdown",
      "source": [
        "따라서 총 3*3*1*32 + 32 = 320개의 파라미터가 있다. "
      ],
      "metadata": {
        "id": "rK6kzFcEmgLn"
      }
    },
    {
      "cell_type": "markdown",
      "source": [
        "두 번째 합성곱 층은 64개의 필터를 사용하고, 크기가 (3, 3), 깊이가 32개이다.  \n",
        "역시 필터마다 하나의 절편이 있다.  \n",
        "총 3 * 3 * 32 * 64 + 64 = 18,496개의 파라미터가 있다.  \n",
        "층의 구조를 잘 이해하고 있는지 확인하려면 이렇게 모델 파라미터 개수를 계산해 보아야 한다. "
      ],
      "metadata": {
        "id": "Zv2Js2k1mjdu"
      }
    },
    {
      "cell_type": "markdown",
      "source": [
        "Flatten 클래스에서 (7, 7, 64)크기의 특성 맵을 1차원 배열로 펼치면 (3136,) 크기의 배열이 된다.  \n",
        "이를 100개의 뉴런과 완전히 연결해야 하므로 은닉층의 모델 파라미터 개수는 3, 136*100 + 100 = 313,700개이다.  "
      ],
      "metadata": {
        "id": "yomfW1KpmxsG"
      }
    },
    {
      "cell_type": "markdown",
      "source": [
        "마찬가지 방식으로 계산하면 마지막 출력층의 모델 파라미터 개수는 1,010개이다. "
      ],
      "metadata": {
        "id": "N1LGdHSwm_ZG"
      }
    },
    {
      "cell_type": "markdown",
      "source": [
        "케라스는 summary() 메서드 외에 층의 구성을 그림으로 표현해 주는 plot_model() 함수를  \n",
        "keras.utils 패키지에서 제공한다.  \n",
        "이 함수 앞에서 만든 model 객체를 넣어 호출해 보자. "
      ],
      "metadata": {
        "id": "zAUya3mGnDe-"
      }
    },
    {
      "cell_type": "code",
      "source": [
        "keras.utils.plot_model(model)"
      ],
      "metadata": {
        "colab": {
          "base_uri": "https://localhost:8080/",
          "height": 1000
        },
        "id": "F94E52EOnLOf",
        "outputId": "0f5ea80c-f034-482b-bf97-318bbbb99236"
      },
      "execution_count": 10,
      "outputs": [
        {
          "output_type": "execute_result",
          "data": {
            "image/png": "[encoded data removed]",
            "text/plain": [
              "<IPython.core.display.Image object>"
            ]
          },
          "metadata": {},
          "execution_count": 10
        }
      ]
    },
    {
      "cell_type": "markdown",
      "source": [
        "plot_model() 함수의 show_shapes 매개변수를 True로 설정하면 이 그림에 입력과 출력의 크기를 표시해 준다.  \n",
        "또 to_file 매개변수에 파일 이름을 지정하면 출력한 이미지를 파일로 저장한다.  \n",
        "dpi 매개변수로 해상도를 지정할 수도 있다.  \n",
        "이 옵션들을 사용해 다시 그래프를 그려 보자. "
      ],
      "metadata": {
        "id": "mSTL1iLTnRPn"
      }
    },
    {
      "cell_type": "code",
      "source": [
        "keras.utils.plot_model(model, show_shapes = True)"
      ],
      "metadata": {
        "colab": {
          "base_uri": "https://localhost:8080/",
          "height": 1000
        },
        "id": "4GfKvKJGnjEA",
        "outputId": "93dbc9be-2d95-4f33-b600-1d35376de41e"
      },
      "execution_count": 11,
      "outputs": [
        {
          "output_type": "execute_result",
          "data": {
            "image/png": "[encoded data removed]",
            "text/plain": [
              "<IPython.core.display.Image object>"
            ]
          },
          "metadata": {},
          "execution_count": 11
        }
      ]
    },
    {
      "cell_type": "markdown",
      "source": [
        "이제 모델을 컴파이하고 훈련해 보자. "
      ],
      "metadata": {
        "id": "VsdOUWvInoUW"
      }
    },
    {
      "cell_type": "markdown",
      "source": [
        "## 모델 컴파일과 훈련"
      ],
      "metadata": {
        "id": "IhUdsyMUoG5G"
      }
    },
    {
      "cell_type": "markdown",
      "source": [
        "케라스 API의 장점은 딥러닝 모델의 종류나 구성 방식에 상관없이 컴파일과 훈려 과정이 같다는 것이다.  \n",
        "다음 코드는 7장 3절에서 사용했던 완전 연결 신경망 모델을 컴파일하고 훈련하는 코드와 거의 같다. "
      ],
      "metadata": {
        "id": "x4tvF-NloIpe"
      }
    },
    {
      "cell_type": "markdown",
      "source": [
        "Adam 옵티마이저를 사용하고, ModelCheckpoint 콜백과 EarlyStopping 콜백을 함께 사용해  \n",
        "조기 종료 기법을 구현한다. "
      ],
      "metadata": {
        "id": "oAGJrgh4oQyO"
      }
    },
    {
      "cell_type": "code",
      "source": [
        "model.compile(optimizer = 'adam', loss='sparse_categorical_crossentropy', metrics='accuracy')\n",
        "checkpoint_cb = keras.callbacks.ModelCheckpoint('best-cnn-model.h5', save_best_only = True)\n",
        "early_stopping_cb = keras.callbacks.EarlyStopping(patience = 2, restore_best_weights = True)\n",
        "history = model.fit(train_scaled, train_target, epochs = 20, \n",
        "                    validation_data = (val_scaled, val_target), \n",
        "                    callbacks = [checkpoint_cb, early_stopping_cb])"
      ],
      "metadata": {
        "colab": {
          "base_uri": "https://localhost:8080/"
        },
        "id": "0UwRqHgtoWZN",
        "outputId": "893d30b4-9286-49e9-9fdc-f7c46f88b449"
      },
      "execution_count": 12,
      "outputs": [
        {
          "output_type": "stream",
          "name": "stdout",
          "text": [
            "Epoch 1/20\n",
            "1500/1500 [==============================] - 98s 65ms/step - loss: 0.4952 - accuracy: 0.8229 - val_loss: 0.3498 - val_accuracy: 0.8737\n",
            "Epoch 2/20\n",
            "1500/1500 [==============================] - 66s 44ms/step - loss: 0.3128 - accuracy: 0.8894 - val_loss: 0.2772 - val_accuracy: 0.9002\n",
            "Epoch 3/20\n",
            "1500/1500 [==============================] - 65s 43ms/step - loss: 0.2627 - accuracy: 0.9049 - val_loss: 0.2664 - val_accuracy: 0.8994\n",
            "Epoch 4/20\n",
            "1500/1500 [==============================] - 65s 44ms/step - loss: 0.2282 - accuracy: 0.9178 - val_loss: 0.2450 - val_accuracy: 0.9119\n",
            "Epoch 5/20\n",
            "1500/1500 [==============================] - 65s 43ms/step - loss: 0.1997 - accuracy: 0.9255 - val_loss: 0.2264 - val_accuracy: 0.9203\n",
            "Epoch 6/20\n",
            "1500/1500 [==============================] - 64s 43ms/step - loss: 0.1777 - accuracy: 0.9348 - val_loss: 0.2382 - val_accuracy: 0.9170\n",
            "Epoch 7/20\n",
            "1500/1500 [==============================] - 64s 43ms/step - loss: 0.1597 - accuracy: 0.9413 - val_loss: 0.2359 - val_accuracy: 0.9175\n"
          ]
        }
      ]
    },
    {
      "cell_type": "markdown",
      "source": [
        "얼핏 보아도 훈련 세트의 정확도가 이전보다 훨씬 좋아진 것을 확인할 수 있다. ( 80%대에서 90%대로 )  \n",
        "손실 그래프를 그래서 조기 종료가 잘 이루어졌는지 확인해 보자. "
      ],
      "metadata": {
        "id": "4QmJbECjo0U_"
      }
    },
    {
      "cell_type": "code",
      "source": [
        "import matplotlib.pyplot as plt\n",
        "\n",
        "plt.plot(history.history['loss'])\n",
        "plt.plot(history.history['val_loss'])\n",
        "plt.xlabel('epoch')\n",
        "plt.ylabel('loss')\n",
        "plt.legend(['train', 'val'])\n",
        "\n",
        "plt.show()"
      ],
      "metadata": {
        "colab": {
          "base_uri": "https://localhost:8080/",
          "height": 279
        },
        "id": "elhrF65Go6Jn",
        "outputId": "b1d8cab6-c890-45e4-aaad-d323a781cc4f"
      },
      "execution_count": 13,
      "outputs": [
        {
          "output_type": "display_data",
          "data": {
            "text/plain": [
              "<Figure size 432x288 with 1 Axes>"
            ],
            "image/png": "[encoded data removed]"
          },
          "metadata": {
            "needs_background": "light"
          }
        }
      ]
    },
    {
      "cell_type": "markdown",
      "source": [
        "검증 세트에 대한 손실이 점차 감소하다가 정체되기 시작하고 훈련 세트에 대한 손실은 점점 더 낮아지고 있다. "
      ],
      "metadata": {
        "id": "_uwS4tecmdme"
      }
    },
    {
      "cell_type": "markdown",
      "source": [
        "EarlyStopping 클래스에서 restore_best_weights 매개변수를 True로 지정했으므로  \n",
        "현재 model 객체가 최적의 모델 파라미터로 복원되어 있다.  \n",
        "즉 Model Checkpoint 콜백이 저장한 best-cnn-model.h5 파일을 다시 읽을 필요가 있다. "
      ],
      "metadata": {
        "id": "iadorPiyx5kA"
      }
    },
    {
      "cell_type": "markdown",
      "source": [
        "이번에는 세트에 대한 성능을 평가해 보자. "
      ],
      "metadata": {
        "id": "HMYmXda6yE7I"
      }
    },
    {
      "cell_type": "code",
      "source": [
        "model.evaluate(val_scaled, val_target)"
      ],
      "metadata": {
        "colab": {
          "base_uri": "https://localhost:8080/"
        },
        "id": "vtnwdXNayGhQ",
        "outputId": "45f3704e-be8f-48d3-d35b-d20b4afff643"
      },
      "execution_count": 14,
      "outputs": [
        {
          "output_type": "stream",
          "name": "stdout",
          "text": [
            "375/375 [==============================] - 5s 14ms/step - loss: 0.2264 - accuracy: 0.9203\n"
          ]
        },
        {
          "output_type": "execute_result",
          "data": {
            "text/plain": [
              "[0.22644449770450592, 0.9203333258628845]"
            ]
          },
          "metadata": {},
          "execution_count": 14
        }
      ]
    },
    {
      "cell_type": "markdown",
      "source": [
        "이 결과는 fit() 메서드의 출력 중 아홉 번째 에포크의 출력과 동일하다.  \n",
        "EarlyStopping 콜백이 model 객체를 최상의 모델 파라미터로 잘 복원한 것 같다. "
      ],
      "metadata": {
        "id": "ewk6DhvqyKy5"
      }
    },
    {
      "cell_type": "markdown",
      "source": [
        "7장에서 잠깐 소개했던 predict() 메서드를 사용해 훈련된 모델을 사용하여 새로운 데이터에 대해 예측을 만들어 보겠다.  \n",
        "여기에서는 편의상 검증 세트의 첫 번째 샘플을 처음 본 이미지라고 가정한다. "
      ],
      "metadata": {
        "id": "a90Jdtb4yTZQ"
      }
    },
    {
      "cell_type": "markdown",
      "source": [
        "맷플롯립에서는 흑백 이미지에 깊이 차원은 없다. 따라서 (28, 28, 1) 크기를  \n",
        "(28, 28)로 바꾸어 출력해야 한다.  \n",
        "첫 번째 샘플 이미지를 먼저 확인해 보자."
      ],
      "metadata": {
        "id": "Q-bUon-xyaMo"
      }
    },
    {
      "cell_type": "code",
      "source": [
        "plt.imshow(val_scaled[0].reshape(28, 28), cmap = 'gray_r')\n",
        "plt.show()"
      ],
      "metadata": {
        "colab": {
          "base_uri": "https://localhost:8080/",
          "height": 265
        },
        "id": "rJk3jiFVymrI",
        "outputId": "6ce31e9e-82f4-44dc-b8f4-9e58f6523247"
      },
      "execution_count": 15,
      "outputs": [
        {
          "output_type": "display_data",
          "data": {
            "text/plain": [
              "<Figure size 432x288 with 1 Axes>"
            ],
            "image/png": "[encoded data removed]"
          },
          "metadata": {
            "needs_background": "light"
          }
        }
      ]
    },
    {
      "cell_type": "markdown",
      "source": [
        "핸드백 이미지 같다. 모델은 이 이미지에 대한 어떤 예측을 만드는 지 확인해 보자.  \n",
        "predict() 메서드는 10개의 클래스에 대한 예측 확률을 출력한다. "
      ],
      "metadata": {
        "id": "KSuTs1l4ytXI"
      }
    },
    {
      "cell_type": "code",
      "source": [
        "preds = model.predict(val_scaled[0:1])\n",
        "print(preds)"
      ],
      "metadata": {
        "colab": {
          "base_uri": "https://localhost:8080/"
        },
        "id": "HcgKgz3OzIVA",
        "outputId": "d17649d9-0550-4ecc-ae6b-dd9136c4f20a"
      },
      "execution_count": 16,
      "outputs": [
        {
          "output_type": "stream",
          "name": "stdout",
          "text": [
            "1/1 [==============================] - 0s 165ms/step\n",
            "[[4.6119236e-14 4.4928190e-21 1.5375218e-15 6.6822546e-16 1.9195668e-15\n",
            "  1.0291835e-13 5.7312736e-14 6.3830485e-14 1.0000000e+00 2.0297486e-16]]\n"
          ]
        }
      ]
    },
    {
      "cell_type": "markdown",
      "source": [
        "[0:1]과 같이 슬라이싱을 사용했다.  \n",
        "케라스의 fit(), predict(), evalate() 메서드는 모두 입력의 첫 번째 차원이 배치 차원일 것으로 기대한다.  \n",
        "따라서 샘플 하나를 전달할 때 (28, 28, 1)이 아니라 (1, 28, 28, 1) 크기로 전달해야 한다.  \n",
        "배열 슬라이싱은 인덱싱과 다르게 선택된 원소가 하나이더라도 전체 차원이 유지되어 (1, 28, 28, 1)크기를 만든다. "
      ],
      "metadata": {
        "id": "ggmNBgjozNdw"
      }
    },
    {
      "cell_type": "markdown",
      "source": [
        "출력 결과를 보면 아홉 번째 값이 1이고 다른 값은 거의 0에 가깝다.  \n",
        "이를 막대그래프로 보면 확실히 느낄 수 있다. "
      ],
      "metadata": {
        "id": "hlfMmXDmze-v"
      }
    },
    {
      "cell_type": "code",
      "source": [
        "plt.bar(range(1, 11), preds[0])\n",
        "plt.xlabel('class')\n",
        "plt.ylabel('prob')\n",
        "\n",
        "plt.show()"
      ],
      "metadata": {
        "colab": {
          "base_uri": "https://localhost:8080/",
          "height": 279
        },
        "id": "hMZXyhoTzm2P",
        "outputId": "2af10b98-c2ef-4d45-d057-578c81ad5cad"
      },
      "execution_count": 17,
      "outputs": [
        {
          "output_type": "display_data",
          "data": {
            "text/plain": [
              "<Figure size 432x288 with 1 Axes>"
            ],
            "image/png": "[encoded data removed]"
          },
          "metadata": {
            "needs_background": "light"
          }
        }
      ]
    },
    {
      "cell_type": "markdown",
      "source": [
        "다른 클래스의 값들은 사실상 0이다. 아홉 번째 클래스가 실제로 무엇이였는지는 패션 MNIST 데이터셋의 정의를 참고해야 한다.  \n",
        "7장에서 패션 MNIST 데이터셋의 레이블을 보았었다.  \n",
        "여기에서는 파이썬에서 레이블을 다루기 위해 리스트로 저장하겠다.  "
      ],
      "metadata": {
        "id": "n1VHwSYAzt25"
      }
    },
    {
      "cell_type": "code",
      "source": [
        "classes = ['티셔츠', '바지', '스웨터', '드레스', '코트', '샌달', '셔츠', '스니커즈', '가방', '앵클 부츠']"
      ],
      "metadata": {
        "id": "vABiL1B0z6nw"
      },
      "execution_count": 18,
      "outputs": []
    },
    {
      "cell_type": "markdown",
      "source": [
        "클래스 리스트가 있다면 레이블을 출력하기 쉽다. preds 배열에서 가장 큰 인덱스를 찾아  \n",
        "classes 리스트의 인덱스로 사용하면 된다.  \n"
      ],
      "metadata": {
        "id": "e4zrilaf0BLA"
      }
    },
    {
      "cell_type": "code",
      "source": [
        "import numpy as np\n",
        "print(classes[np.argmax(preds)])"
      ],
      "metadata": {
        "colab": {
          "base_uri": "https://localhost:8080/"
        },
        "id": "SvaTsIjl0INw",
        "outputId": "37786a0a-cdba-48af-c711-6d182f93ec94"
      },
      "execution_count": 19,
      "outputs": [
        {
          "output_type": "stream",
          "name": "stdout",
          "text": [
            "가방\n"
          ]
        }
      ]
    },
    {
      "cell_type": "markdown",
      "source": [
        "위의 그림 예시 샘플을 가방으로 잘 예측한 것 같다.  \n",
        "합성곱 신경망을 만들고, 훈련하여 새로운 샘플에 대해 예측을 수행하는 방법도 알아보았다.  \n",
        "마지막으로 맨 처음에 떼어 놓았던 테스트 세트로 합성곱 신경망의 일반화 성능을 가늠해 보겠다.  \n",
        "즉, 이 모델을 실전에 투입하였을 때 얻을 수 있는 예상 성능을 측정해 보자."
      ],
      "metadata": {
        "id": "80lp7gR60Lt5"
      }
    },
    {
      "cell_type": "markdown",
      "source": [
        "훈련 세트와 검증 세트에서 했던 것처럼 픽셀 값의 범위를 0~1 사이로 바꾸고  \n",
        "이미지 크기를 (28, 28)에서 (28, 28, 1) 크기로 바꾸겠다.  "
      ],
      "metadata": {
        "id": "zfvgA4Y-0bgI"
      }
    },
    {
      "cell_type": "code",
      "source": [
        "test_scaled = test_input.reshape(-1, 28, 28, 1) / 255.0"
      ],
      "metadata": {
        "id": "JHFkqabj0js_"
      },
      "execution_count": 22,
      "outputs": []
    },
    {
      "cell_type": "markdown",
      "source": [
        "그 다음 evaluate() 메서드로 테스트 세트에 대한 성능을 측정한다. \n"
      ],
      "metadata": {
        "id": "oOE1SP3z0sEo"
      }
    },
    {
      "cell_type": "code",
      "source": [
        "model.evaluate(test_scaled, test_target)"
      ],
      "metadata": {
        "colab": {
          "base_uri": "https://localhost:8080/"
        },
        "id": "BgnHCL3t0wDI",
        "outputId": "0168d3e5-59ac-416d-b41d-0ad908af6487"
      },
      "execution_count": 23,
      "outputs": [
        {
          "output_type": "stream",
          "name": "stdout",
          "text": [
            "313/313 [==============================] - 4s 13ms/step - loss: 0.2506 - accuracy: 0.9142\n"
          ]
        },
        {
          "output_type": "execute_result",
          "data": {
            "text/plain": [
              "[0.2505660057067871, 0.9142000079154968]"
            ]
          },
          "metadata": {},
          "execution_count": 23
        }
      ]
    },
    {
      "cell_type": "markdown",
      "source": [
        "테스트 세트에서의 점수는 검증 세트보다 조금 더 작다.  \n",
        "이 모델을 실전에 투입하여 패션 아이템을 분류한다면 \n",
        "약 91%의 성능을 기대할 수 있을 것이다. "
      ],
      "metadata": {
        "id": "vbzsVgOG0z0Z"
      }
    }
  ]
}