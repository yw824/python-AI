{
  "nbformat": 4,
  "nbformat_minor": 0,
  "metadata": {
    "colab": {
      "provenance": []
    },
    "kernelspec": {
      "name": "python3",
      "display_name": "Python 3"
    },
    "language_info": {
      "name": "python"
    }
  },
  "cells": [
    {
      "cell_type": "code",
      "execution_count": null,
      "metadata": {
        "id": "6OyhzebihWfO"
      },
      "outputs": [],
      "source": [
        "import numpy as np\n",
        "import pandas as pd\n",
        "import matplotlib.pyplot as plt"
      ]
    },
    {
      "cell_type": "markdown",
      "source": [
        "## 훈련 세트와 테스트 세트\n",
        "- 테스트 세트 : 평가에 사용하는 데이터\n",
        "- 훈련 세트 : 훈련에 사용하는 데이터"
      ],
      "metadata": {
        "id": "EklE83d4ho6X"
      }
    },
    {
      "cell_type": "markdown",
      "source": [
        "먼저 도미와 빙어의 데이터를 합쳐 하나의 파이썬 리스트로 준비한다. \n",
        "- http://bit.ly/bream_smelt"
      ],
      "metadata": {
        "id": "s_CxhKxpiSOg"
      }
    },
    {
      "cell_type": "code",
      "source": [
        "fish_length = [25.4, 26.3, 26.5, 29.0, 29.0, 29.7, 29.7, 30.0, 30.0, 30.7, 31.0, 31.0, \n",
        "                31.5, 32.0, 32.0, 32.0, 33.0, 33.0, 33.5, 33.5, 34.0, 34.0, 34.5, 35.0, \n",
        "                35.0, 35.0, 35.0, 36.0, 36.0, 37.0, 38.5, 38.5, 39.5, 41.0, 41.0, 9.8, \n",
        "                10.5, 10.6, 11.0, 11.2, 11.3, 11.8, 11.8, 12.0, 12.2, 12.4, 13.0, 14.3, 15.0]\n",
        "fish_weight = [242.0, 290.0, 340.0, 363.0, 430.0, 450.0, 500.0, 390.0, 450.0, 500.0, 475.0, 500.0, \n",
        "                500.0, 340.0, 600.0, 600.0, 700.0, 700.0, 610.0, 650.0, 575.0, 685.0, 620.0, 680.0, \n",
        "                700.0, 725.0, 720.0, 714.0, 850.0, 1000.0, 920.0, 955.0, 925.0, 975.0, 950.0, 6.7, \n",
        "                7.5, 7.0, 9.7, 9.8, 8.7, 10.0, 9.9, 9.8, 12.2, 13.4, 12.2, 19.7, 19.9]"
      ],
      "metadata": {
        "id": "zrpWuWxdibTJ"
      },
      "execution_count": null,
      "outputs": []
    },
    {
      "cell_type": "markdown",
      "source": [
        "이제 두 파이썬 리스트를 순회하면서 각 생선의 길이와 무게를 하나의 리스트로 담은 2차원 리스트를 만들자. "
      ],
      "metadata": {
        "id": "LSoqjPJgif6D"
      }
    },
    {
      "cell_type": "code",
      "source": [
        "fish_data = [[l, w] for l, w in zip(fish_length, fish_weight)]\n",
        "fish_data"
      ],
      "metadata": {
        "colab": {
          "base_uri": "https://localhost:8080/"
        },
        "id": "CcasZl3ZinhL",
        "outputId": "8590d001-fcfa-4669-c770-fd6281539263"
      },
      "execution_count": null,
      "outputs": [
        {
          "output_type": "execute_result",
          "data": {
            "text/plain": [
              "[[25.4, 242.0],\n",
              " [26.3, 290.0],\n",
              " [26.5, 340.0],\n",
              " [29.0, 363.0],\n",
              " [29.0, 430.0],\n",
              " [29.7, 450.0],\n",
              " [29.7, 500.0],\n",
              " [30.0, 390.0],\n",
              " [30.0, 450.0],\n",
              " [30.7, 500.0],\n",
              " [31.0, 475.0],\n",
              " [31.0, 500.0],\n",
              " [31.5, 500.0],\n",
              " [32.0, 340.0],\n",
              " [32.0, 600.0],\n",
              " [32.0, 600.0],\n",
              " [33.0, 700.0],\n",
              " [33.0, 700.0],\n",
              " [33.5, 610.0],\n",
              " [33.5, 650.0],\n",
              " [34.0, 575.0],\n",
              " [34.0, 685.0],\n",
              " [34.5, 620.0],\n",
              " [35.0, 680.0],\n",
              " [35.0, 700.0],\n",
              " [35.0, 725.0],\n",
              " [35.0, 720.0],\n",
              " [36.0, 714.0],\n",
              " [36.0, 850.0],\n",
              " [37.0, 1000.0],\n",
              " [38.5, 920.0],\n",
              " [38.5, 955.0],\n",
              " [39.5, 925.0],\n",
              " [41.0, 975.0],\n",
              " [41.0, 950.0],\n",
              " [9.8, 6.7],\n",
              " [10.5, 7.5],\n",
              " [10.6, 7.0],\n",
              " [11.0, 9.7],\n",
              " [11.2, 9.8],\n",
              " [11.3, 8.7],\n",
              " [11.8, 10.0],\n",
              " [11.8, 9.9],\n",
              " [12.0, 9.8],\n",
              " [12.2, 12.2],\n",
              " [12.4, 13.4],\n",
              " [13.0, 12.2],\n",
              " [14.3, 19.7],\n",
              " [15.0, 19.9]]"
            ]
          },
          "metadata": {},
          "execution_count": 6
        }
      ]
    },
    {
      "cell_type": "markdown",
      "source": [
        "하나의 생선 데이터를 **샘플**이라고 부른다. <br>\n",
        "도미와 빙어는 각각 35마리, 14마리가 있으므로, 전체 데이터는 49개의 샘플이 있다."
      ],
      "metadata": {
        "id": "QHyVCTUMi-Zo"
      }
    },
    {
      "cell_type": "markdown",
      "source": [
        "사용하는 특성은 길이와 무게 2개이다. 이 데이터의 처음 35개를 훈련 세트로, <br>\n",
        "나머지 14개를 테스트 세트로 사용한다. "
      ],
      "metadata": {
        "id": "x9oOFxISjLmW"
      }
    },
    {
      "cell_type": "code",
      "source": [
        "fish_target = [1] * 35 + [0] * 14"
      ],
      "metadata": {
        "id": "sWHocn1ejSaF"
      },
      "execution_count": null,
      "outputs": []
    },
    {
      "cell_type": "markdown",
      "source": [
        "먼저 사이킷런의 KNeighborsClassifier 클래스를 import하고 모델 객체를 만든다. "
      ],
      "metadata": {
        "id": "YSl-ov-pjYE-"
      }
    },
    {
      "cell_type": "code",
      "source": [
        "from sklearn.neighbors import KNeighborsClassifier\n",
        "kn = KNeighborsClassifier()"
      ],
      "metadata": {
        "id": "DkSgJi89jd-6"
      },
      "execution_count": null,
      "outputs": []
    },
    {
      "cell_type": "markdown",
      "source": [
        "전체 데이터에서 처음 35개를 생성해야 한다. 일반적으로 리스트처럼 배열의 요소를 선택할 때는 <br>\n",
        "배열의 위치, 즉 **인덱스**를 사용한다."
      ],
      "metadata": {
        "id": "BuiXiFjOjsPy"
      }
    },
    {
      "cell_type": "code",
      "source": [
        "print(fish_data[4])"
      ],
      "metadata": {
        "colab": {
          "base_uri": "https://localhost:8080/"
        },
        "id": "MMB1dSBtj20J",
        "outputId": "a55b818e-3c46-4f6f-8f07-885d88603c26"
      },
      "execution_count": null,
      "outputs": [
        {
          "output_type": "stream",
          "name": "stdout",
          "text": [
            "[29.0, 430.0]\n"
          ]
        }
      ]
    },
    {
      "cell_type": "markdown",
      "source": [
        "생선 데이터에서 처음 35개를 훈련 데이터로 사용하고, 나머지 14개를 테스트 데이터로 사용한다. "
      ],
      "metadata": {
        "id": "13KvQa3Jj9hS"
      }
    },
    {
      "cell_type": "code",
      "source": [
        "# 훈련 세트로 입력값 중 0부터 34번째 인덱스까지 사용\n",
        "train_input = fish_data[:35]\n",
        "\n",
        "# 훈련 세트로 타깃값 중 0부터 34번째 인덱스까지 사용\n",
        "train_target = fish_target[:35]\n",
        "\n",
        "# 테스트 세트로 입력값 중 35번째부터 마지막까지 사용\n",
        "test_input = fish_data[35:]\n",
        "\n",
        "# 세스트 세트로 타깃값 중 35번째부터 마지막까지 사용 \n",
        "test_target = fish_target[35:]"
      ],
      "metadata": {
        "id": "jmyCVofRkZes"
      },
      "execution_count": null,
      "outputs": []
    },
    {
      "cell_type": "code",
      "source": [
        "kn = kn.fit(train_input, train_target)\n",
        "kn.score(test_input, test_target) # 왜 0이지 ,,,??? "
      ],
      "metadata": {
        "colab": {
          "base_uri": "https://localhost:8080/"
        },
        "id": "CzSFjo_4lxHr",
        "outputId": "67119391-e530-4677-ba8b-618679fc3b0d"
      },
      "execution_count": null,
      "outputs": [
        {
          "output_type": "execute_result",
          "data": {
            "text/plain": [
              "0.0"
            ]
          },
          "metadata": {},
          "execution_count": 13
        }
      ]
    },
    {
      "cell_type": "markdown",
      "source": [
        "## 샘플링 편향 \n",
        "- 0부터 35까지는 도미 데이터, 빙어는 하나도 없다.\n"
      ],
      "metadata": {
        "id": "_LvhNtmjl-6e"
      }
    },
    {
      "cell_type": "markdown",
      "source": [
        "- 따라서 도미 데이터만 학습하고, 빙어 데이터로만 테스트를 한 것이니 \n",
        "- 당연히 score = 0이 뜰 수밖에 없다 "
      ],
      "metadata": {
        "id": "9PnVX-EvmImA"
      }
    },
    {
      "cell_type": "markdown",
      "source": [
        "- 샘플링이 한 쪽으로 치우쳤다는 의미로 샘플링 편향이라고 부른다. "
      ],
      "metadata": {
        "id": "amvPnVummpRZ"
      }
    },
    {
      "cell_type": "markdown",
      "source": [
        "- 전체 데이터와 타겟을 섞은 다음, 훈련 세트와 테스트 세트를 나눠서 학습 후 테스트해야 한다.\n",
        "- 이런 작품을 간편하게 처리할 수 있도록 파이썬 라이브러리인 넘파이를 사용할 것이다. "
      ],
      "metadata": {
        "id": "8tma8kL_meNZ"
      }
    },
    {
      "cell_type": "code",
      "source": [
        "# 파이썬 리스트를 넘파이 배열로 바꾸자.\n",
        "\n",
        "input_arr = np.array(fish_data)\n",
        "target_arr = np.array(fish_target)"
      ],
      "metadata": {
        "id": "y7_UYUaLmnUy"
      },
      "execution_count": null,
      "outputs": []
    },
    {
      "cell_type": "code",
      "source": [
        "input_arr[:5]"
      ],
      "metadata": {
        "id": "UriorkCOm_jL",
        "colab": {
          "base_uri": "https://localhost:8080/"
        },
        "outputId": "ebb1bfb6-1d48-4cba-9d8d-f6b103f39444"
      },
      "execution_count": null,
      "outputs": [
        {
          "output_type": "execute_result",
          "data": {
            "text/plain": [
              "array([[ 25.4, 242. ],\n",
              "       [ 26.3, 290. ],\n",
              "       [ 26.5, 340. ],\n",
              "       [ 29. , 363. ],\n",
              "       [ 29. , 430. ]])"
            ]
          },
          "metadata": {},
          "execution_count": 17
        }
      ]
    },
    {
      "cell_type": "code",
      "source": [
        "type(input_arr)"
      ],
      "metadata": {
        "colab": {
          "base_uri": "https://localhost:8080/"
        },
        "id": "0Ajka6mmnFeF",
        "outputId": "042e5ca6-7043-4a82-8517-6897439382b0"
      },
      "execution_count": null,
      "outputs": [
        {
          "output_type": "execute_result",
          "data": {
            "text/plain": [
              "numpy.ndarray"
            ]
          },
          "metadata": {},
          "execution_count": 19
        }
      ]
    },
    {
      "cell_type": "code",
      "source": [
        "print(input_arr.shape)"
      ],
      "metadata": {
        "colab": {
          "base_uri": "https://localhost:8080/"
        },
        "id": "Bey0L8OZnKyH",
        "outputId": "3e40280f-53f6-40ef-b7f7-da79b34ed071"
      },
      "execution_count": null,
      "outputs": [
        {
          "output_type": "stream",
          "name": "stdout",
          "text": [
            "(49, 2)\n"
          ]
        }
      ]
    },
    {
      "cell_type": "code",
      "source": [
        "# 일정한 결과를 얻으려면 초기에 랜덤 시드를 설정 \n",
        "np.random.seed(42)\n",
        "index = np.arange(49)\n",
        "np.random.shuffle(index)\n",
        "print(index)"
      ],
      "metadata": {
        "colab": {
          "base_uri": "https://localhost:8080/"
        },
        "id": "AOqIAYVooZUS",
        "outputId": "756d4c4a-892a-4e7b-c8cb-f47dfe31915b"
      },
      "execution_count": null,
      "outputs": [
        {
          "output_type": "stream",
          "name": "stdout",
          "text": [
            "[13 45 47 44 17 27 26 25 31 19 12  4 34  8  3  6 40 41 46 15  9 16 24 33\n",
            " 30  0 43 32  5 29 11 36  1 21  2 37 35 23 39 10 22 18 48 20  7 42 14 28\n",
            " 38]\n"
          ]
        }
      ]
    },
    {
      "cell_type": "markdown",
      "source": [
        "넘파이의 배열 인덱싱 : \n",
        "- 1개의 인덱스가 아닌 여러 개의 인덱스로 한 번에 여러 개의 원소를 선택 가능 \n",
        "- 예 ) 다음과 같이 input_arr에서 두 번째와 네 번째 샘플을 선택하여 출력 가능 "
      ],
      "metadata": {
        "id": "udBYKcPBopaw"
      }
    },
    {
      "cell_type": "code",
      "source": [
        "print(input_arr[[1, 3]])"
      ],
      "metadata": {
        "colab": {
          "base_uri": "https://localhost:8080/"
        },
        "id": "iL1h0hkao2bj",
        "outputId": "7c22d05f-2ded-4f25-b777-47d03f45d713"
      },
      "execution_count": null,
      "outputs": [
        {
          "output_type": "stream",
          "name": "stdout",
          "text": [
            "[[ 26.3 290. ]\n",
            " [ 29.  363. ]]\n"
          ]
        }
      ]
    },
    {
      "cell_type": "code",
      "source": [
        "train_input = input_arr[index[:35]]\n",
        "train_target = target_arr[index[:35]]\n",
        "\n",
        "test_input = input_arr[index[35:]]\n",
        "test_target = target_arr[index[35:]]\n",
        "\n",
        "# 무조건 파이썬 리스트를 numpy array로 변환한 후 처리해야 한다. "
      ],
      "metadata": {
        "id": "7_t09eI0o7tQ"
      },
      "execution_count": null,
      "outputs": []
    },
    {
      "cell_type": "code",
      "source": [
        "plt.scatter(train_input[:, 0], train_input[:, 1])\n",
        "plt.scatter(test_input[:, 0], test_input[:, 1])\n",
        "plt.xlabel('fish_length')\n",
        "plt.ylabel('fish_weight')\n",
        "plt.show()"
      ],
      "metadata": {
        "colab": {
          "base_uri": "https://localhost:8080/",
          "height": 280
        },
        "id": "mzWrV5HgpkT5",
        "outputId": "bf054269-1fff-4010-9a7b-6b54503fa498"
      },
      "execution_count": null,
      "outputs": [
        {
          "output_type": "display_data",
          "data": {
            "text/plain": [
              "<Figure size 432x288 with 1 Axes>"
            ],
            "image/png": "[encoded data removed]"
          },
          "metadata": {
            "needs_background": "light"
          }
        }
      ]
    },
    {
      "cell_type": "markdown",
      "source": [
        "앞서 만든 훈련 세트와 테스트 세트로 k-최근접 이웃 모델을 훈련시켜 보자.\n",
        "- fit() 메서드를 실행할 때마다 KNeighborClassifier 클래스의 객체는 <br>\n",
        "이전에 학습한 모든 것을 잃어버린다.\n",
        "- 이전 모델을 그대로 두고 싶다면 KNeighborsClassifier 클래스 객체를 새로 만들어야 한다.\n",
        "- 이전에 만든 kn 객체는 의미가 없으므로 그대로 사용하자. "
      ],
      "metadata": {
        "id": "ijXW3X7vqQmj"
      }
    },
    {
      "cell_type": "code",
      "source": [
        "kn = kn.fit(train_input, train_target)"
      ],
      "metadata": {
        "id": "GnKm5BMDrN6b"
      },
      "execution_count": null,
      "outputs": []
    },
    {
      "cell_type": "code",
      "source": [
        "kn.score(test_input, test_target)"
      ],
      "metadata": {
        "colab": {
          "base_uri": "https://localhost:8080/"
        },
        "id": "BO59MD55rRMy",
        "outputId": "33143571-f475-4002-df1b-023075d8f395"
      },
      "execution_count": null,
      "outputs": [
        {
          "output_type": "execute_result",
          "data": {
            "text/plain": [
              "1.0"
            ]
          },
          "metadata": {},
          "execution_count": 31
        }
      ]
    },
    {
      "cell_type": "code",
      "source": [
        "kn.predict(test_input)"
      ],
      "metadata": {
        "id": "NWTOcIa0raOC",
        "outputId": "0ec575ed-6e01-4e0a-b59d-b9cb4bff3e5d",
        "colab": {
          "base_uri": "https://localhost:8080/"
        }
      },
      "execution_count": null,
      "outputs": [
        {
          "output_type": "execute_result",
          "data": {
            "text/plain": [
              "array([0, 0, 1, 0, 1, 1, 1, 0, 1, 1, 0, 1, 1, 0])"
            ]
          },
          "metadata": {},
          "execution_count": 32
        }
      ]
    },
    {
      "cell_type": "code",
      "source": [
        "test_target"
      ],
      "metadata": {
        "id": "ddAXhWL4rcBv",
        "outputId": "abfb7522-af97-459c-cfff-6ca1803e848c",
        "colab": {
          "base_uri": "https://localhost:8080/"
        }
      },
      "execution_count": null,
      "outputs": [
        {
          "output_type": "execute_result",
          "data": {
            "text/plain": [
              "array([0, 0, 1, 0, 1, 1, 1, 0, 1, 1, 0, 1, 1, 0])"
            ]
          },
          "metadata": {},
          "execution_count": 33
        }
      ]
    }
  ]
}